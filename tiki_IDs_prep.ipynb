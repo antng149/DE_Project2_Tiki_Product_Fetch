{
 "cells": [
  {
   "cell_type": "code",
   "execution_count": null,
   "id": "1b0ee81b",
   "metadata": {},
   "outputs": [],
   "source": [
    "import pandas as pd\n",
    "import numpy as np"
   ]
  },
  {
   "cell_type": "code",
   "execution_count": 12,
   "id": "2e648cfe",
   "metadata": {},
   "outputs": [
    {
     "name": "stdout",
     "output_type": "stream",
     "text": [
      "(200000, 1)\n"
     ]
    },
    {
     "data": {
      "text/html": [
       "<div>\n",
       "<style scoped>\n",
       "    .dataframe tbody tr th:only-of-type {\n",
       "        vertical-align: middle;\n",
       "    }\n",
       "\n",
       "    .dataframe tbody tr th {\n",
       "        vertical-align: top;\n",
       "    }\n",
       "\n",
       "    .dataframe thead th {\n",
       "        text-align: right;\n",
       "    }\n",
       "</style>\n",
       "<table border=\"1\" class=\"dataframe\">\n",
       "  <thead>\n",
       "    <tr style=\"text-align: right;\">\n",
       "      <th></th>\n",
       "      <th>id</th>\n",
       "    </tr>\n",
       "  </thead>\n",
       "  <tbody>\n",
       "    <tr>\n",
       "      <th>0</th>\n",
       "      <td>1391347</td>\n",
       "    </tr>\n",
       "    <tr>\n",
       "      <th>1</th>\n",
       "      <td>74897599</td>\n",
       "    </tr>\n",
       "    <tr>\n",
       "      <th>2</th>\n",
       "      <td>154155413</td>\n",
       "    </tr>\n",
       "    <tr>\n",
       "      <th>3</th>\n",
       "      <td>253117062</td>\n",
       "    </tr>\n",
       "    <tr>\n",
       "      <th>4</th>\n",
       "      <td>130978358</td>\n",
       "    </tr>\n",
       "  </tbody>\n",
       "</table>\n",
       "</div>"
      ],
      "text/plain": [
       "          id\n",
       "0    1391347\n",
       "1   74897599\n",
       "2  154155413\n",
       "3  253117062\n",
       "4  130978358"
      ]
     },
     "execution_count": 12,
     "metadata": {},
     "output_type": "execute_result"
    }
   ],
   "source": [
    "df = pd.read_csv(\"products-0-200000(in).csv\", usecols=[\"id\"])\n",
    "\n",
    "# Check shape and first few rows\n",
    "print(df.shape)\n",
    "df.head()"
   ]
  },
  {
   "cell_type": "code",
   "execution_count": 13,
   "id": "c2cca771",
   "metadata": {},
   "outputs": [
    {
     "name": "stdout",
     "output_type": "stream",
     "text": [
      "Original total rows: 200000\n",
      "Blank/Null IDs: 0\n",
      "Duplicate IDs: 0\n"
     ]
    }
   ],
   "source": [
    "print(\"Original total rows:\", len(df))\n",
    "print(\"Blank/Null IDs:\", df['id'].isna().sum())\n",
    "print(\"Duplicate IDs:\", df['id'].duplicated().sum())"
   ]
  },
  {
   "cell_type": "code",
   "execution_count": 14,
   "id": "47e03111",
   "metadata": {},
   "outputs": [],
   "source": [
    "ids = df['id'].dropna()\n",
    "ids = ids.astype('int64')\n",
    "ids = ids.astype(str)\n",
    "\n"
   ]
  },
  {
   "cell_type": "code",
   "execution_count": 6,
   "id": "8753d6c6",
   "metadata": {},
   "outputs": [],
   "source": [
    "df['id'].head(200000).to_csv(\"product_ids.txt\", index=False, header=False)"
   ]
  },
  {
   "cell_type": "code",
   "execution_count": 24,
   "id": "e28de8ef",
   "metadata": {},
   "outputs": [
    {
     "name": "stdout",
     "output_type": "stream",
     "text": [
      "Removed 0 duplicate IDs. Remaining: 200000\n"
     ]
    }
   ],
   "source": [
    "before = len(ids)\n",
    "ids = ids.drop_duplicates()\n",
    "after = len(ids)\n",
    "print(f\"Removed {before - after} duplicate IDs. Remaining: {after}\")\n"
   ]
  },
  {
   "cell_type": "code",
   "execution_count": 17,
   "id": "404b3239",
   "metadata": {},
   "outputs": [
    {
     "name": "stdout",
     "output_type": "stream",
     "text": [
      "Saved all IDs to product_ids.txt\n"
     ]
    }
   ],
   "source": [
    "ids.to_csv(\"product_ids.txt\", index=False, header=False)\n",
    "print(\"Saved all IDs to product_ids.txt\")\n"
   ]
  },
  {
   "cell_type": "code",
   "execution_count": 23,
   "id": "5955414c",
   "metadata": {},
   "outputs": [
    {
     "name": "stdout",
     "output_type": "stream",
     "text": [
      "Saved ids_A1.txt with 50000 IDs\n",
      "Saved ids_A2.txt with 50000 IDs\n",
      "Saved ids_B1.txt with 50000 IDs\n",
      "Saved ids_B2.txt with 50000 IDs\n",
      "All files ready for A1, A2, B1, B2 workers.\n"
     ]
    }
   ],
   "source": [
    "parts = np.array_split(ids, 4)\n",
    "names = [\"ids_A1.txt\", \"ids_A2.txt\", \"ids_B1.txt\", \"ids_B2.txt\"]\n",
    "\n",
    "for name, part in zip(names, parts):\n",
    "    part.to_csv(name, index=False, header=False)\n",
    "    print(f\"Saved {name} with {len(part)} IDs\")\n",
    "\n",
    "print(\"All files ready for A1, A2, B1, B2 workers.\")\n"
   ]
  }
 ],
 "metadata": {
  "kernelspec": {
   "display_name": "base",
   "language": "python",
   "name": "python3"
  },
  "language_info": {
   "codemirror_mode": {
    "name": "ipython",
    "version": 3
   },
   "file_extension": ".py",
   "mimetype": "text/x-python",
   "name": "python",
   "nbconvert_exporter": "python",
   "pygments_lexer": "ipython3",
   "version": "3.13.5"
  }
 },
 "nbformat": 4,
 "nbformat_minor": 5
}
